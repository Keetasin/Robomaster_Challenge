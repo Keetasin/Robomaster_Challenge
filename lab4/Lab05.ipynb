{
 "cells": [
  {
   "cell_type": "code",
   "execution_count": 2,
   "metadata": {},
   "outputs": [],
   "source": [
    "import cv2\n",
    "import numpy as np\n",
    "\n",
    "# โหลดภาพที่อัปโหลด\n",
    "image_path = 'coke.jpg'\n",
    "image = cv2.imread(image_path)\n",
    "\n",
    "# แปลงภาพจาก RGB เป็น HSV\n",
    "hsv_image = cv2.cvtColor(image, cv2.COLOR_BGR2HSV)\n",
    "\n",
    "# ตั้งค่า Threshold ของช่อง HUE สำหรับสีของกระป๋องโค้ก\n",
    "# สีแดงของกระป๋องโค้กมีค่า HUE อยู่ในช่วงประมาณ 0-10 และ 170-180\n",
    "lower_red1 = np.array([0, 50, 50])\n",
    "upper_red1 = np.array([10, 255, 255])\n",
    "lower_red2 = np.array([170, 50, 50])\n",
    "upper_red2 = np.array([180, 255, 255])\n",
    "\n",
    "# Threshold สีแดงในภาพ\n",
    "mask1 = cv2.inRange(hsv_image, lower_red1, upper_red1)\n",
    "mask2 = cv2.inRange(hsv_image, lower_red2, upper_red2)\n",
    "mask = cv2.bitwise_or(mask1, mask2)\n",
    "\n",
    "# หา Contours ใน Mask ที่ได้\n",
    "contours, _ = cv2.findContours(mask, cv2.RETR_TREE, cv2.CHAIN_APPROX_SIMPLE)\n",
    "\n",
    "# หาพื้นที่ของ Contour ที่ใหญ่ที่สุดและสร้าง bounding box รอบ ๆ มัน\n",
    "if contours:\n",
    "    largest_contour = max(contours, key=cv2.contourArea)\n",
    "    x, y, w, h = cv2.boundingRect(largest_contour)\n",
    "    cv2.rectangle(image, (x, y), (x + w, y + h), (0, 255, 0), 2)\n",
    "\n",
    "# แสดงภาพผลลัพธ์\n",
    "cv2.imshow('Coke Can Detection', image)\n",
    "cv2.waitKey(0)\n",
    "cv2.destroyAllWindows()\n"
   ]
  }
 ],
 "metadata": {
  "kernelspec": {
   "display_name": "Python 3",
   "language": "python",
   "name": "python3"
  },
  "language_info": {
   "codemirror_mode": {
    "name": "ipython",
    "version": 3
   },
   "file_extension": ".py",
   "mimetype": "text/x-python",
   "name": "python",
   "nbconvert_exporter": "python",
   "pygments_lexer": "ipython3",
   "version": "3.8.10"
  }
 },
 "nbformat": 4,
 "nbformat_minor": 2
}
